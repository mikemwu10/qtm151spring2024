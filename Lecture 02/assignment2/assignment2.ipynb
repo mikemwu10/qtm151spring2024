{
 "cells": [
  {
   "attachments": {},
   "cell_type": "markdown",
   "metadata": {},
   "source": [
    "# Assignment 2"
   ]
  },
  {
   "attachments": {},
   "cell_type": "markdown",
   "metadata": {},
   "source": [
    "## Submit as an HTML file"
   ]
  },
  {
   "attachments": {},
   "cell_type": "markdown",
   "metadata": {},
   "source": [
    "<font size = \"5\">\n",
    "Print your name below"
   ]
  },
  {
   "cell_type": "code",
   "execution_count": 32,
   "metadata": {},
   "outputs": [
    {
     "name": "stdout",
     "output_type": "stream",
     "text": [
      "My name is Mike Wu\n"
     ]
    }
   ],
   "source": [
    "print(\"My name is Mike Wu\")"
   ]
  },
  {
   "attachments": {},
   "cell_type": "markdown",
   "metadata": {},
   "source": [
    "<font size = \"5\">\n",
    "\n",
    "(a) Import the pandas and matplotlib packages"
   ]
  },
  {
   "cell_type": "code",
   "execution_count": 4,
   "metadata": {},
   "outputs": [],
   "source": [
    "import pandas as pd\n",
    "import matplotlib.pyplot as plt"
   ]
  },
  {
   "attachments": {},
   "cell_type": "markdown",
   "metadata": {},
   "source": [
    "<font size = \"5\">\n",
    "\n",
    "(b) Open the dataset \"worldbank_wdi_2019.csv\" in the \"data\" folder\n",
    "\n",
    "<font size = \"3\">\n",
    "\n",
    "- Read it as a pandas object called \"wdi\"\n",
    "- Note: This is a subset of the World Development Indicators for 2019"
   ]
  },
  {
   "cell_type": "code",
   "execution_count": 21,
   "metadata": {},
   "outputs": [],
   "source": [
    "wdi = pd.read_csv('data/worldbank_wdi_2019.csv')"
   ]
  },
  {
   "attachments": {},
   "cell_type": "markdown",
   "metadata": {},
   "source": [
    "<font size = \"5\">\n",
    "\n",
    "(c) View the dataset and create a list of variable names\n",
    "\n"
   ]
  },
  {
   "cell_type": "code",
   "execution_count": 28,
   "metadata": {},
   "outputs": [
    {
     "name": "stdout",
     "output_type": "stream",
     "text": [
      "                                                 year    country_name  \\\n",
      "0                                                2019     Afghanistan   \n",
      "1                                                2019         Albania   \n",
      "2                                                2019         Algeria   \n",
      "3                                                2019  American Samoa   \n",
      "4                                                2019         Andorra   \n",
      "..                                                ...             ...   \n",
      "266                                               NaN             NaN   \n",
      "267                                               NaN             NaN   \n",
      "268                                               NaN             NaN   \n",
      "269  Data from database: World Development Indicators             NaN   \n",
      "270                          Last Updated: 12/22/2022             NaN   \n",
      "\n",
      "     life_expectancy  gdp_per_capita_usd  \n",
      "0             63.565          500.522664  \n",
      "1             79.282         5396.215864  \n",
      "2             76.474         4022.150184  \n",
      "3                NaN        13672.576660  \n",
      "4                NaN        41327.502030  \n",
      "..               ...                 ...  \n",
      "266              NaN                 NaN  \n",
      "267              NaN                 NaN  \n",
      "268              NaN                 NaN  \n",
      "269              NaN                 NaN  \n",
      "270              NaN                 NaN  \n",
      "\n",
      "[271 rows x 4 columns]\n"
     ]
    }
   ],
   "source": [
    "# Create a list, e.g. \"variable_names = [ \"name1\", \"name2\", \"name3\" ]\"\n",
    "# Manually type the names of the 4 variables\n",
    "# If you're viewing the dataset from the VS-Code \"Variables\" tool, you'll\n",
    "# see an extra column \"index\". Do not include this in your list.\n",
    "print(wdi)\n",
    "country_data = [\"year\",\"country_name\",\"life_expectancy\",\"gdp_per_capita_usd\"]\n"
   ]
  },
  {
   "attachments": {},
   "cell_type": "markdown",
   "metadata": {},
   "source": [
    "<font size = \"5\">\n",
    "\n",
    "(d) Compute descriptive statistics for the fourth variable in the dataset\n",
    "\n",
    "<font size = \"3\">\n",
    "\n",
    "- One way to do this is:\n",
    "\n",
    "wdi[\"gdp_per_capita_usd\"].describe()\n",
    "\n",
    "- Do something similar, but with the list you created above.\n",
    "- Substitute \"gdp_per_capita_usd\" with a command that automatically extracts the fourth element in the list"
   ]
  },
  {
   "cell_type": "code",
   "execution_count": 31,
   "metadata": {},
   "outputs": [
    {
     "data": {
      "text/plain": [
       "count       255.000000\n",
       "mean      17230.949757\n",
       "std       25792.183785\n",
       "min         216.972968\n",
       "25%        2186.046581\n",
       "50%        6837.717826\n",
       "75%       19809.323135\n",
       "max      199377.481800\n",
       "Name: gdp_per_capita_usd, dtype: float64"
      ]
     },
     "execution_count": 31,
     "metadata": {},
     "output_type": "execute_result"
    }
   ],
   "source": [
    "# Remember that the numbering in Python starts at zero\n",
    "# For example:\n",
    "# list_colors = [\"red\",\"green\",\"yellow\"]\n",
    "# list_colors[2] will output \"yellow\"\n",
    "\n",
    "wdi[\"gdp_per_capita_usd\"].describe()\n",
    "\n",
    "wdi[country_data[3]].describe()"
   ]
  },
  {
   "attachments": {},
   "cell_type": "markdown",
   "metadata": {},
   "source": [
    "<font size = \"5\">\n",
    "\n",
    "(e) Show a scatter plot that shows \"gdp_per_capita_usd\" in the x-axis and \"lifexpectancy\" in the y-axis.\n",
    "\n",
    "<font size = \"3\">\n",
    "\n",
    "- Label the axes for full points\n",
    "- Note: This question does not depend on (d)"
   ]
  },
  {
   "cell_type": "code",
   "execution_count": 27,
   "metadata": {},
   "outputs": [
    {
     "data": {
      "image/png": "[encoded data removed]",
      "text/plain": [
       "<Figure size 640x480 with 1 Axes>"
      ]
     },
     "metadata": {},
     "output_type": "display_data"
    }
   ],
   "source": [
    "plt.scatter(x = wdi[country_data[3]], y = wdi[country_data[2]])\n",
    "plt.xlabel(\"GDP per capita in USD\")\n",
    "plt.ylabel(\"Life Expectancy\")\n",
    "plt.show()"
   ]
  }
 ],
 "metadata": {
  "kernelspec": {
   "display_name": "Python 3",
   "language": "python",
   "name": "python3"
  },
  "language_info": {
   "codemirror_mode": {
    "name": "ipython",
    "version": 3
   },
   "file_extension": ".py",
   "mimetype": "text/x-python",
   "name": "python",
   "nbconvert_exporter": "python",
   "pygments_lexer": "ipython3",
   "version": "3.11.5"
  },
  "orig_nbformat": 4,
  "vscode": {
   "interpreter": {
    "hash": "aee8b7b246df8f9039afb4144a1f6fd8d2ca17a180786b69acc140d282b71a49"
   }
  }
 },
 "nbformat": 4,
 "nbformat_minor": 2
}
