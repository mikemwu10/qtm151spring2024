{
 "cells": [
  {
   "attachments": {},
   "cell_type": "markdown",
   "metadata": {},
   "source": [
    "# Assignment 7"
   ]
  },
  {
   "attachments": {},
   "cell_type": "markdown",
   "metadata": {},
   "source": [
    "## Submit as an HTML file"
   ]
  },
  {
   "attachments": {},
   "cell_type": "markdown",
   "metadata": {},
   "source": [
    "<font size = \"5\">\n",
    "Print your name below"
   ]
  },
  {
   "cell_type": "code",
   "execution_count": 23,
   "metadata": {},
   "outputs": [
    {
     "name": "stdout",
     "output_type": "stream",
     "text": [
      "My name is Mike Wu\n"
     ]
    }
   ],
   "source": [
    "print(\"My name is Mike Wu\")"
   ]
  },
  {
   "attachments": {},
   "cell_type": "markdown",
   "metadata": {},
   "source": [
    "<font size = \"5\">\n",
    "\n",
    "Import the \"pandas\" and \"numpy\" library"
   ]
  },
  {
   "cell_type": "code",
   "execution_count": 24,
   "metadata": {},
   "outputs": [],
   "source": [
    "# Write your answer here:\n",
    "\n",
    "import pandas as pd\n",
    "import numpy as np\n"
   ]
  },
  {
   "attachments": {},
   "cell_type": "markdown",
   "metadata": {},
   "source": [
    "<font size = \"5\">\n",
    "\n",
    "(a) Replace values from intervals\n",
    "\n",
    "<font size = \"3\">\n",
    "\n",
    "- Import the dataset \"data_raw/students.csv\" to a new object \"students\"\n",
    "- Use \"pd.cut()\" to assign the column \"numericgrade\" to a letter grade <br>\n",
    "\n",
    "- Using the following grading scale: <br>\n",
    "\n",
    "<img src=\"figures/grading_scale.png\" alt=\"drawing\" width=\"600\"/>\n"
   ]
  },
  {
   "cell_type": "code",
   "execution_count": 25,
   "metadata": {},
   "outputs": [
    {
     "name": "stdout",
     "output_type": "stream",
     "text": [
      "    studentid  numericgrade lettergrade\n",
      "0           1            61          C-\n",
      "1           2             0           F\n",
      "2           3            14           F\n",
      "3           4            57           D\n",
      "4           5            72          C+\n",
      "5           6            93           A\n",
      "6           7            40           F\n",
      "7           8            11           F\n",
      "8           9             3           F\n",
      "9          10            63          C-\n",
      "10         11             7           F\n",
      "11         12            46           F\n",
      "12         13            75          B-\n",
      "13         14            95           A\n",
      "14         15            22           F\n",
      "15         16            40           F\n",
      "16         17            53           F\n",
      "17         18            57           D\n",
      "18         19            82          B+\n",
      "19         20            50           F\n",
      "20         21             8           F\n",
      "21         22            87          A-\n",
      "22         23            82          B+\n",
      "23         24            30           F\n",
      "24         25            62          C-\n"
     ]
    }
   ],
   "source": [
    "# Write your own code\n",
    "students = pd.read_csv(\"data_raw/students.csv\")\n",
    "\n",
    "bins = [0, 54, 59, 64, 69, 74, 79, 82, 86, 92, 100]\n",
    "labels = ['F', 'D', 'C-', 'C', 'C+', 'B-', 'B', 'B+', 'A-', 'A']\n",
    "\n",
    "students['lettergrade'] = pd.cut(students['numericgrade'], bins=bins, labels=labels, right=False)\n",
    "\n",
    "print(students)\n"
   ]
  },
  {
   "attachments": {},
   "cell_type": "markdown",
   "metadata": {},
   "source": [
    "<font size = \"5\">\n",
    "\n",
    "For questions (b)-(e) use \"results.csv\", <br>\n",
    "a dataset on competitive car racing\n",
    "\n",
    "Import the dataset \"data_raw/results.csv\" to <br>\n",
    " a new object \"results\""
   ]
  },
  {
   "cell_type": "code",
   "execution_count": 26,
   "metadata": {},
   "outputs": [],
   "source": [
    "# Write your own code\n",
    "results = pd.read_csv(\"data_raw/results.csv\")"
   ]
  },
  {
   "attachments": {},
   "cell_type": "markdown",
   "metadata": {},
   "source": [
    "<font size = \"5\">\n",
    "\n",
    "(b) Check column types\n",
    "\n",
    "<font size = \"3\">\n",
    "\n",
    "- View the dataset\n",
    "- Use the function \"results.dtypes\" to get the column types\n",
    "- Search for the \"results\" table in \"codebook/f1_codebook.pdf\".\n",
    "- Does the type of the \"time\" column agree with the codebook? <br>\n",
    "i.e. is it an integer, float, or string/object?\n",
    "\n",
    "\n",
    "HINT: See Lectures 12 and 14 for how to interpret the codebook\n"
   ]
  },
  {
   "cell_type": "code",
   "execution_count": 27,
   "metadata": {},
   "outputs": [
    {
     "name": "stdout",
     "output_type": "stream",
     "text": [
      "resultId             int64\n",
      "raceId               int64\n",
      "driverId             int64\n",
      "constructorId        int64\n",
      "number              object\n",
      "grid                 int64\n",
      "position            object\n",
      "positionText        object\n",
      "positionOrder        int64\n",
      "points             float64\n",
      "laps                 int64\n",
      "time                object\n",
      "milliseconds        object\n",
      "fastestLap          object\n",
      "rank                object\n",
      "fastestLapTime      object\n",
      "fastestLapSpeed     object\n",
      "statusId             int64\n",
      "dtype: object\n",
      "The data type of the 'time' column is: object\n",
      "The 'time' column type agrees with the codebook.\n"
     ]
    }
   ],
   "source": [
    "# Write your own code here\n",
    "# Note: When you run \"results.dtypes\" you will get the type (int, float, object)\n",
    "# Object represents columns coded as strings.\n",
    "data_types = results.dtypes\n",
    "print(data_types)\n",
    "\n",
    "time_data_type = results['time'].dtype\n",
    "print(f\"The data type of the 'time' column is: {time_data_type}\")\n",
    "\n",
    "if time_data_type == 'object':\n",
    "    print(\"The 'time' column type agrees with the codebook.\")\n",
    "else:\n",
    "    print(\"The 'time' column type does not agree with the codebook.\")"
   ]
  },
  {
   "attachments": {},
   "cell_type": "markdown",
   "metadata": {},
   "source": [
    "<font size = \"5\">\n",
    "\n",
    "(c) Clean a column\n",
    "\n",
    "<font size = \"3\">\n",
    "\n",
    "- Import the dataset \"data_raw/results.csv\" to a new object \"results\"\n",
    "- Our goal is to replace any string values in the column \"milliseconds\" <br>\n",
    "to missing values (NaNs) and covert to numeric\n",
    "- To do so\n",
    "    - \"Extract list of non-numeric values\"\n",
    "    - \"Replace certain values\"\n",
    "    - \"Convert column to numeric\"\n",
    "    - \"Display\"\n",
    " \n"
   ]
  },
  {
   "cell_type": "code",
   "execution_count": 28,
   "metadata": {},
   "outputs": [
    {
     "name": "stdout",
     "output_type": "stream",
     "text": [
      "['\\\\N']\n",
      "0        5690616.0\n",
      "1        5696094.0\n",
      "2        5698779.0\n",
      "3        5707797.0\n",
      "4        5708630.0\n",
      "           ...    \n",
      "25835          NaN\n",
      "25836          NaN\n",
      "25837          NaN\n",
      "25838          NaN\n",
      "25839          NaN\n",
      "Name: milliseconds, Length: 25840, dtype: float64\n"
     ]
    }
   ],
   "source": [
    "# Write your own code here\n",
    "\n",
    "results = pd.read_csv(\"data_raw/results.csv\")\n",
    "non_numeric_subset = results.query('milliseconds.str.isnumeric() == False')\n",
    "list_unique_non_numeric = pd.unique(non_numeric_subset['milliseconds'])\n",
    "print(list_unique_non_numeric)\n",
    "results['milliseconds'] = results['milliseconds'].replace('\\\\N', np.nan)\n",
    "results['milliseconds'] = pd.to_numeric(results['milliseconds'], errors='coerce')\n",
    "print(results['milliseconds'])\n",
    "\n"
   ]
  },
  {
   "attachments": {},
   "cell_type": "markdown",
   "metadata": {},
   "source": [
    "<font size = \"5\">\n",
    "\n",
    "(d) Groupby + Aggregate\n",
    "\n",
    "<font size = \"3\">\n",
    "\n",
    "- Compute the mean and standard deviation of \"laps\", <br>\n",
    "grouping by \"constructorId\". Store the new dataset <br>\n",
    "as \"df_aggCon_pos\"\n",
    "- Sort the aggregate dataset in decending <br>\n",
    "order of mean laps using \".sort_values()\"\n",
    "\n"
   ]
  },
  {
   "cell_type": "code",
   "execution_count": 30,
   "metadata": {},
   "outputs": [
    {
     "name": "stdout",
     "output_type": "stream",
     "text": [
      "                     mean        std\n",
      "constructorId                       \n",
      "149            198.500000   2.121320\n",
      "112            197.000000   4.242641\n",
      "109            184.285714  32.912583\n",
      "119            178.666667  36.950417\n",
      "108            163.764706  63.148168\n",
      "...                   ...        ...\n",
      "93               0.000000        NaN\n",
      "61               0.000000   0.000000\n",
      "137              0.000000        NaN\n",
      "91               0.000000        NaN\n",
      "74               0.000000   0.000000\n",
      "\n",
      "[210 rows x 2 columns]\n"
     ]
    }
   ],
   "source": [
    "# Write your own code\n",
    "df_aggCon_pos = results.groupby('constructorId')['laps'].agg(['mean', 'std'])\n",
    "df_aggCon_pos = df_aggCon_pos.sort_values('mean', ascending=False)\n",
    "print(df_aggCon_pos)\n",
    "\n"
   ]
  },
  {
   "attachments": {},
   "cell_type": "markdown",
   "metadata": {},
   "source": [
    "<font size = \"5\" >\n",
    "\n",
    "(e) Query + Groupby + Aggregate\n",
    "\n",
    "<font size = \"3\">\n",
    "\n",
    "- Use \".query()\" to subset observations with <br>\n",
    "'race_id >= 150'\n",
    "- Compute the mean and standard deviation of \"position\", <br>\n",
    "grouping by \"constructorId\". Store the new dataset <br>\n",
    "as \"df_subAggCon_pos\"\n"
   ]
  },
  {
   "cell_type": "code",
   "execution_count": 36,
   "metadata": {},
   "outputs": [
    {
     "name": "stdout",
     "output_type": "stream",
     "text": [
      "                    mean       std\n",
      "constructorId                     \n",
      "1               6.121634  4.294358\n",
      "3               7.983836  5.509701\n",
      "4               8.617834  4.388534\n",
      "5              11.430868  3.157308\n",
      "6               4.733661  3.395834\n",
      "...                  ...       ...\n",
      "209            16.333333  2.420002\n",
      "210            13.293860  3.770574\n",
      "211             9.230769  4.030234\n",
      "213            10.519608  3.842777\n",
      "214             8.763158  3.354076\n",
      "\n",
      "[203 rows x 2 columns]\n"
     ]
    }
   ],
   "source": [
    "# Write your own code\n",
    "results['position'] = pd.to_numeric(results['position'], errors='coerce')\n",
    "filtered_results = results.query('raceId >= 150')\n",
    "df_subAggCon_pos = filtered_results.groupby('constructorId')['position'].agg(['mean', 'std'])\n",
    "print(df_subAggCon_pos)\n",
    "\n"
   ]
  }
 ],
 "metadata": {
  "kernelspec": {
   "display_name": "base",
   "language": "python",
   "name": "python3"
  },
  "language_info": {
   "codemirror_mode": {
    "name": "ipython",
    "version": 3
   },
   "file_extension": ".py",
   "mimetype": "text/x-python",
   "name": "python",
   "nbconvert_exporter": "python",
   "pygments_lexer": "ipython3",
   "version": "3.9.13"
  },
  "orig_nbformat": 4,
  "vscode": {
   "interpreter": {
    "hash": "45fc1f684f6f416f40889115beff3ddf69879b64cf4bfee48cb72a61e9d15d1a"
   }
  }
 },
 "nbformat": 4,
 "nbformat_minor": 2
}
