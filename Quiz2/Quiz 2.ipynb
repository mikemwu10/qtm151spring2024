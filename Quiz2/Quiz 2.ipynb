{
 "cells": [
  {
   "attachments": {},
   "cell_type": "markdown",
   "metadata": {},
   "source": [
    "# <span style=\"color:darkblue\"> QTM 151 - Quiz 2 </span>"
   ]
  },
  {
   "attachments": {},
   "cell_type": "markdown",
   "metadata": {},
   "source": [
    "## Try to submit as an HTML file"
   ]
  },
  {
   "attachments": {},
   "cell_type": "markdown",
   "metadata": {},
   "source": [
    "<font size=\"5\"> \n",
    "\n",
    "Print your name below"
   ]
  },
  {
   "cell_type": "code",
   "execution_count": 180,
   "metadata": {},
   "outputs": [
    {
     "name": "stdout",
     "output_type": "stream",
     "text": [
      "My name is Mike Wu\n"
     ]
    }
   ],
   "source": [
    "# Write your answer here\n",
    "print(\"My name is Mike Wu\")"
   ]
  },
  {
   "attachments": {},
   "cell_type": "markdown",
   "metadata": {},
   "source": [
    "<font size = \"5\" >\n",
    "This quiz is open book \n",
    "\n",
    "- You can use the lecture notes\n",
    "- You will get partial credit for attempting the questions\n",
    "- To get full credit, the code should run as intended\n",
    "- You should <span style=\"color:red\"> NOT </span> communicate with other students\n",
    "\n",
    "Print the following message: <br>\n",
    "\n",
    "\"I will abide by Emory's code of conduct\"\n"
   ]
  },
  {
   "cell_type": "code",
   "execution_count": 181,
   "metadata": {},
   "outputs": [
    {
     "name": "stdout",
     "output_type": "stream",
     "text": [
      "I will abide by Emory's code of conduct\n"
     ]
    }
   ],
   "source": [
    "# Write your answer here:\n",
    "\n",
    "print(\"I will abide by Emory's code of conduct\")\n"
   ]
  },
  {
   "attachments": {},
   "cell_type": "markdown",
   "metadata": {},
   "source": [
    "<font size = \"5\">\n",
    "\n",
    "Import the libraries \"numpy\", \"matplotlib.pyplot\", <br>\n",
    "\"pandas\", \"statsmodels.api\" and \"statsmodels.formula.api\"\n"
   ]
  },
  {
   "cell_type": "code",
   "execution_count": 182,
   "metadata": {},
   "outputs": [],
   "source": [
    "# Write your answer here\n",
    "\n",
    "import numpy as np\n",
    "import matplotlib.pyplot as plt\n",
    "import pandas as pd\n",
    "import statsmodels.api as sm\n",
    "import statsmodels.formula.api as smf"
   ]
  },
  {
   "attachments": {},
   "cell_type": "markdown",
   "metadata": {},
   "source": [
    "<font size = \"5\">\n",
    "\n",
    "Read the dataset \"data_quiz/fifa23_players_basic.csv\"\n",
    "\n",
    "- It's a dataset on professional soccer players\n",
    "- Rows correspond to players (18,539)\n",
    "- Columns contain attributes of players (32)\n",
    "- Try to view the dataset before starting <br>\n",
    "to get a sense of its content"
   ]
  },
  {
   "cell_type": "code",
   "execution_count": 183,
   "metadata": {},
   "outputs": [
    {
     "name": "stdout",
     "output_type": "stream",
     "text": [
      "       Unnamed: 0        Known As           Full Name  Overall  Potential  \\\n",
      "0               0        L. Messi        Lionel Messi       91         91   \n",
      "1               1      K. Benzema       Karim Benzema       91         91   \n",
      "2               2  R. Lewandowski  Robert Lewandowski       91         91   \n",
      "3               3    K. De Bruyne     Kevin De Bruyne       91         91   \n",
      "4               4       K. Mbappé       Kylian Mbappé       91         95   \n",
      "...           ...             ...                 ...      ...        ...   \n",
      "18534       18534      D. Collins      Darren Collins       47         56   \n",
      "18535       18535    Yang Dejiang        Dejiang Yang       47         57   \n",
      "18536       18536       L. Mullan         Liam Mullan       47         67   \n",
      "18537       18537    D. McCallion    Daithí McCallion       47         61   \n",
      "18538       18538        N. Rabha         Nabin Rabha       47         50   \n",
      "\n",
      "       Value(in Euro) Positions Played Best Position          Nationality  \\\n",
      "0            54000000               RW           CAM            Argentina   \n",
      "1            64000000            CF,ST            CF               France   \n",
      "2            84000000               ST            ST               Poland   \n",
      "3           107500000           CM,CAM            CM              Belgium   \n",
      "4           190500000            ST,LW            ST               France   \n",
      "...               ...              ...           ...                  ...   \n",
      "18534          110000            ST,RM           CAM  Republic of Ireland   \n",
      "18535           90000              CDM           CDM             China PR   \n",
      "18536          130000               CM            RM     Northern Ireland   \n",
      "18537          100000               CB            CB  Republic of Ireland   \n",
      "18538           60000               LB            LB                India   \n",
      "\n",
      "                                             Image Link  ...  Preferred Foot  \\\n",
      "0      https://cdn.sofifa.net/players/158/023/23_60.png  ...            Left   \n",
      "1      https://cdn.sofifa.net/players/165/153/23_60.png  ...           Right   \n",
      "2      https://cdn.sofifa.net/players/188/545/23_60.png  ...           Right   \n",
      "3      https://cdn.sofifa.net/players/192/985/23_60.png  ...           Right   \n",
      "4      https://cdn.sofifa.net/players/231/747/23_60.png  ...           Right   \n",
      "...                                                 ...  ...             ...   \n",
      "18534  https://cdn.sofifa.net/players/243/725/23_60.png  ...           Right   \n",
      "18535  https://cdn.sofifa.net/players/261/933/23_60.png  ...           Right   \n",
      "18536  https://cdn.sofifa.net/players/267/823/23_60.png  ...           Right   \n",
      "18537  https://cdn.sofifa.net/players/267/824/23_60.png  ...           Right   \n",
      "18538  https://cdn.sofifa.net/players/261/424/23_60.png  ...            Left   \n",
      "\n",
      "       Weak Foot Rating  Skill Moves  International Reputation  \\\n",
      "0                     4            4                         5   \n",
      "1                     4            4                         4   \n",
      "2                     4            4                         5   \n",
      "3                     5            4                         4   \n",
      "4                     4            5                         4   \n",
      "...                 ...          ...                       ...   \n",
      "18534                 3            2                         1   \n",
      "18535                 3            2                         1   \n",
      "18536                 3            2                         1   \n",
      "18537                 3            2                         1   \n",
      "18538                 3            2                         1   \n",
      "\n",
      "       National Team Name             National Team Image Link  \\\n",
      "0               Argentina  https://cdn.sofifa.net/flags/ar.png   \n",
      "1                  France  https://cdn.sofifa.net/flags/fr.png   \n",
      "2                  Poland  https://cdn.sofifa.net/flags/pl.png   \n",
      "3                 Belgium  https://cdn.sofifa.net/flags/be.png   \n",
      "4                  France  https://cdn.sofifa.net/flags/fr.png   \n",
      "...                   ...                                  ...   \n",
      "18534                   -                                    -   \n",
      "18535                   -                                    -   \n",
      "18536                   -                                    -   \n",
      "18537                   -                                    -   \n",
      "18538                   -                                    -   \n",
      "\n",
      "       National Team Position  National Team Jersey Number  \\\n",
      "0                          RW                           10   \n",
      "1                          ST                           19   \n",
      "2                          ST                            9   \n",
      "3                          RF                            7   \n",
      "4                          ST                           10   \n",
      "...                       ...                          ...   \n",
      "18534                       -                            -   \n",
      "18535                       -                            -   \n",
      "18536                       -                            -   \n",
      "18537                       -                            -   \n",
      "18538                       -                            -   \n",
      "\n",
      "      Attacking Work Rate Defensive Work Rate  \n",
      "0                     Low                 Low  \n",
      "1                  Medium              Medium  \n",
      "2                    High              Medium  \n",
      "3                    High                High  \n",
      "4                    High                 Low  \n",
      "...                   ...                 ...  \n",
      "18534              Medium              Medium  \n",
      "18535              Medium              Medium  \n",
      "18536                High              Medium  \n",
      "18537              Medium              Medium  \n",
      "18538              Medium              Medium  \n",
      "\n",
      "[18539 rows x 33 columns]\n"
     ]
    }
   ],
   "source": [
    "# Write your own code\n",
    "\n",
    "profsoccer = pd.read_csv(\"data_quiz/fifa23_players_basic.csv\")\n",
    "print(profsoccer)\n"
   ]
  },
  {
   "attachments": {},
   "cell_type": "markdown",
   "metadata": {},
   "source": [
    "<font size = \"5\">\n",
    "\n",
    "(a) Use queries + global variables\n",
    "\n",
    "<font size = \"3\">\n",
    "\n",
    "- Subset the players whose value of the column \"On Loan\" is \"YES\" <br>\n",
    "and store it in a new dataset\n",
    "- How many players are on loan?\n",
    "\n",
    "HINT: Remember that there is a special syntax for <br>\n",
    "when the column names have spaces (see Lecture 10) <br>\n",
    "and when the value is a string. <br>\n",
    "Reference the column as ``` `On Loan` ``` inside .query()"
   ]
  },
  {
   "cell_type": "code",
   "execution_count": 184,
   "metadata": {},
   "outputs": [
    {
     "name": "stdout",
     "output_type": "stream",
     "text": [
      "Number of players on loan: 1229\n"
     ]
    }
   ],
   "source": [
    "# Write your own code\n",
    "\n",
    "players_on_loan = profsoccer.query(\"`On Loan` == 'YES'\")\n",
    "\n",
    "# Count the number of players on loan\n",
    "number_on_loan = len(players_on_loan)\n",
    "\n",
    "# Display the number of players on loan\n",
    "print(f\"Number of players on loan: {number_on_loan}\")\n",
    "\n",
    "\n"
   ]
  },
  {
   "attachments": {},
   "cell_type": "markdown",
   "metadata": {},
   "source": [
    "<font size = \"5\">\n",
    "\n",
    "(b) Create a function and apply it to a column <br>\n",
    "\n",
    "<font size = \"3\">\n",
    "\n",
    "Step 1:\n",
    "- Define a function with a parameter \"Overall\"\n",
    "- If \"Overall > 90\", classification = \"Top Performer\"\n",
    "- If \"Overall <= 90\", classification = \"Non Top-Performer\"\n",
    "- The function returns \"classification\"\n",
    "\n",
    "Step 2:\n",
    "- Extract the column \"Overall\" in the dataset <br>\n",
    "(be carefeful to write the \"O\" capitalized)\n",
    "- Create a new variable called \"player_classification\" <br>\n",
    "to assign each player to the correct classification\n",
    "\n",
    "HINT: Use the \".apply()\" function"
   ]
  },
  {
   "cell_type": "code",
   "execution_count": 185,
   "metadata": {},
   "outputs": [],
   "source": [
    "# Write your own code\n",
    "\n",
    "def classify_player(overall):\n",
    "    if overall > 90:\n",
    "        return \"Top Performer\"\n",
    "    else:\n",
    "        return \"Non Top-Performer\"\n",
    "\n",
    "\n",
    "profsoccer['player_classification'] = profsoccer['Overall'].apply(classify_player)\n",
    "\n"
   ]
  },
  {
   "attachments": {},
   "cell_type": "markdown",
   "metadata": {},
   "source": [
    "<font size = \"5\">\n",
    "\n",
    "(c) Use sorting + \".iloc[]\"\n",
    "\n",
    "<font size = \"3\">\n",
    "\n",
    "The varable \"Joined On\" shows the date in which each player joined FIFA\n",
    "- Use \".sort_values()\" to order the \"Joined On\" column <br>\n",
    "from earlier data to later date\n",
    "- Get a subset with the 6 players in the dataset <br>\n",
    "who joined FIFA earliest\n",
    "- From this subset, display the year in which they joined <br>\n",
    "by displaying the column \"Joined On\""
   ]
  },
  {
   "cell_type": "code",
   "execution_count": 186,
   "metadata": {},
   "outputs": [
    {
     "name": "stdout",
     "output_type": "stream",
     "text": [
      "       Joined On\n",
      "8586        2002\n",
      "10877       2003\n",
      "4324        2004\n",
      "11056       2005\n",
      "10360       2005\n",
      "11768       2005\n"
     ]
    }
   ],
   "source": [
    "# Write your own code\n",
    "\n",
    "fifa_data_sorted = profsoccer.sort_values(\"Joined On\")\n",
    "\n",
    "six_earliest_players = fifa_data_sorted.iloc[:6]\n",
    "\n",
    "print(six_earliest_players[['Joined On']])\n"
   ]
  },
  {
   "attachments": {},
   "cell_type": "markdown",
   "metadata": {},
   "source": [
    "<font size = \"5\">\n",
    "\n",
    "(d) Regression function\n",
    "\n",
    "<font size = \"3\">\n",
    "\n",
    "- Run a regression of \"Potential\" (left-hand side) on \"Age\" (right-hand side)\n",
    "- What are the values of the coefficients?\n",
    "\n",
    "[HINT: Use the commands ```smf.ols()``` and ```.fit()``` and ```.params``` <br>\n",
    "from Lecture 11 ]\n"
   ]
  },
  {
   "cell_type": "code",
   "execution_count": 187,
   "metadata": {},
   "outputs": [
    {
     "name": "stdout",
     "output_type": "stream",
     "text": [
      "Intercept    79.752454\n",
      "Age          -0.346103\n",
      "dtype: float64\n"
     ]
    }
   ],
   "source": [
    "# Write your own code\n",
    "\n",
    "result = smf.ols('Potential ~ Age', data=profsoccer).fit()\n",
    "\n",
    "coefficients = result.params\n",
    "\n",
    "print(coefficients)\n"
   ]
  },
  {
   "attachments": {},
   "cell_type": "markdown",
   "metadata": {},
   "source": [
    "<font size = \"5\">\n",
    "\n",
    "(e) Split a dataset into subsets\n",
    "\n",
    "<font size = \"3\">\n",
    "\n",
    "- Store the total number of rows of the dataset in a variable called ```n``` <br>\n",
    "- Create a new variable called ```random_var``` drawn from a <br>\n",
    "uniform distribution between 0 and 1 with size ```n```\n",
    "- Use .query() to subset all observations with ```random_var <0.5```.<br>\n",
    "store it in a new dataset called \"data0\"\n",
    "- Use .query() to subset all observations with ```random_var >= 0.5```.<br>\n",
    "store it in a new dataset called \"data1\"\n",
    "\n",
    "[HINT: See Lecture 2 for how to generate a uniform random variable]\n"
   ]
  },
  {
   "cell_type": "code",
   "execution_count": 188,
   "metadata": {},
   "outputs": [],
   "source": [
    "# Write your own code\n",
    "\n",
    "n = len(profsoccer)\n",
    "\n",
    "random_var = np.random.uniform(0, 1, size=n)\n",
    "\n",
    "profsoccer['random_var'] = random_var\n",
    "\n",
    "data0 = profsoccer.query('random_var < 0.5')\n",
    "data1 = profsoccer.query('random_var >= 0.5')\n"
   ]
  },
  {
   "attachments": {},
   "cell_type": "markdown",
   "metadata": {},
   "source": [
    "<font size = \"5\">\n",
    "\n",
    "(f) Create two overlapping histogram plots\n",
    "\n",
    "<font size = \"3\">\n",
    "\n",
    "- This question requires the two datasets you created in (e)\n",
    "- Display the distribution of \"Age\" for \"data0\" and \"data1\" using <br>\n",
    "```plt.hist()```\n",
    "- You will need to label the axes, and the title\n",
    "- To get full points, plot the histograms with the option  ```alpha = 0.5```, e.g. <br>\n",
    " ``` plt.hist(x = ..., alpha = 0.5) ``` <br>\n",
    " Make sure to substitute the corresponding \"x\" vector instead of ```...``` <br>\n",
    "(The alpha option sets the transparency of the histogram )\n",
    "\n",
    "Note: The goal of this question is to illustrate that random <br>\n",
    "assignment produces very similar distributions between two groups"
   ]
  },
  {
   "cell_type": "code",
   "execution_count": 190,
   "metadata": {},
   "outputs": [
    {
     "data": {
      "image/png": "[encoded data removed]",
      "text/plain": [
       "<Figure size 640x480 with 1 Axes>"
      ]
     },
     "metadata": {},
     "output_type": "display_data"
    }
   ],
   "source": [
    "# Write your own code\n",
    "\n",
    "plt.hist(x = data0['Age'], alpha=0.5, label='data0')\n",
    "\n",
    "plt.hist(x = data1['Age'], alpha=0.5, label='data1')\n",
    "\n",
    "plt.xlabel('Age')\n",
    "plt.ylabel('Frequency')\n",
    "plt.title('Age Distribution for data0 and data1')\n",
    "plt.legend()\n",
    "plt.show()\n",
    "\n",
    "\n",
    "\n",
    "\n"
   ]
  }
 ],
 "metadata": {
  "kernelspec": {
   "display_name": "base",
   "language": "python",
   "name": "python3"
  },
  "language_info": {
   "codemirror_mode": {
    "name": "ipython",
    "version": 3
   },
   "file_extension": ".py",
   "mimetype": "text/x-python",
   "name": "python",
   "nbconvert_exporter": "python",
   "pygments_lexer": "ipython3",
   "version": "3.11.5"
  },
  "orig_nbformat": 4,
  "vscode": {
   "interpreter": {
    "hash": "45fc1f684f6f416f40889115beff3ddf69879b64cf4bfee48cb72a61e9d15d1a"
   }
  }
 },
 "nbformat": 4,
 "nbformat_minor": 2
}
