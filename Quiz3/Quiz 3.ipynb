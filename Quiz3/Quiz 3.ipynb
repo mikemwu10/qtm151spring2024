{
 "cells": [
  {
   "attachments": {},
   "cell_type": "markdown",
   "metadata": {},
   "source": [
    "# <span style=\"color:darkblue\"> QTM 151 - Quiz 3 </span>"
   ]
  },
  {
   "attachments": {},
   "cell_type": "markdown",
   "metadata": {},
   "source": [
    "## Try to submit as an HTML file"
   ]
  },
  {
   "attachments": {},
   "cell_type": "markdown",
   "metadata": {},
   "source": [
    "<font size=\"5\"> \n",
    "\n",
    "Print your name below"
   ]
  },
  {
   "cell_type": "code",
   "execution_count": 26,
   "metadata": {},
   "outputs": [
    {
     "name": "stdout",
     "output_type": "stream",
     "text": [
      "My name is Mike\n"
     ]
    }
   ],
   "source": [
    "# Write your answer here\n",
    "\n",
    "print(\"My name is Mike\")"
   ]
  },
  {
   "attachments": {},
   "cell_type": "markdown",
   "metadata": {},
   "source": [
    "<font size = \"5\" >\n",
    "This quiz is open book \n",
    "\n",
    "- You can use the lecture notes\n",
    "- You will get partial credit for attempting the questions\n",
    "- To get full credit, the code should run as intended\n",
    "- You should <span style=\"color:red\"> NOT </span> communicate with other students\n",
    "\n",
    "Print the following message: <br>\n",
    "\n",
    "\"I will abide by Emory's code of conduct\"\n"
   ]
  },
  {
   "cell_type": "code",
   "execution_count": 27,
   "metadata": {},
   "outputs": [
    {
     "name": "stdout",
     "output_type": "stream",
     "text": [
      "I will abide by Emory's code of conduct\n"
     ]
    }
   ],
   "source": [
    "# Write your answer here:\n",
    "print(\"I will abide by Emory's code of conduct\")\n"
   ]
  },
  {
   "attachments": {},
   "cell_type": "markdown",
   "metadata": {},
   "source": [
    "<font size = \"5\">\n",
    "\n",
    "Import the libraries \"numpy\" and \"pandas\""
   ]
  },
  {
   "cell_type": "code",
   "execution_count": 28,
   "metadata": {},
   "outputs": [],
   "source": [
    "# Write your answer here\n",
    "\n",
    "import pandas as pd\n",
    "import numpy as np\n"
   ]
  },
  {
   "cell_type": "markdown",
   "metadata": {},
   "source": [
    "\n",
    "<font size = \"5\">\n",
    "\n",
    "(a) Replace the values of a column\n",
    "\n",
    "<font size = \"3\">\n",
    "\n",
    "- Import the \"data_raw/constructors.csv\" file\n",
    "- Replace the values \"British\", \"American\", and \"Dutch\" with <br>\n",
    "\"UK\", \"USA\", \"Netherlands\" in the column \"nationality\"\n",
    "\n",
    "\n",
    "HINT: See the example in Lecture 12"
   ]
  },
  {
   "cell_type": "code",
   "execution_count": 29,
   "metadata": {},
   "outputs": [
    {
     "name": "stdout",
     "output_type": "stream",
     "text": [
      "     constructorId constructorRef            name nationality  \\\n",
      "0                1        mclaren         McLaren          UK   \n",
      "1                2     bmw_sauber      BMW Sauber      German   \n",
      "2                3       williams        Williams          UK   \n",
      "3                4        renault         Renault      French   \n",
      "4                5     toro_rosso      Toro Rosso     Italian   \n",
      "..             ...            ...             ...         ...   \n",
      "206            209          manor  Manor Marussia          UK   \n",
      "207            210           haas    Haas F1 Team         USA   \n",
      "208            211   racing_point    Racing Point          UK   \n",
      "209            213     alphatauri      AlphaTauri     Italian   \n",
      "210            214         alpine  Alpine F1 Team      French   \n",
      "\n",
      "                                                   url  \n",
      "0                 http://en.wikipedia.org/wiki/McLaren  \n",
      "1              http://en.wikipedia.org/wiki/BMW_Sauber  \n",
      "2    http://en.wikipedia.org/wiki/Williams_Grand_Pr...  \n",
      "3    http://en.wikipedia.org/wiki/Renault_in_Formul...  \n",
      "4     http://en.wikipedia.org/wiki/Scuderia_Toro_Rosso  \n",
      "..                                                 ...  \n",
      "206      http://en.wikipedia.org/wiki/Manor_Motorsport  \n",
      "207          http://en.wikipedia.org/wiki/Haas_F1_Team  \n",
      "208  http://en.wikipedia.org/wiki/Racing_Point_F1_Team  \n",
      "209   http://en.wikipedia.org/wiki/Scuderia_AlphaTauri  \n",
      "210        http://en.wikipedia.org/wiki/Alpine_F1_Team  \n",
      "\n",
      "[211 rows x 5 columns]\n"
     ]
    }
   ],
   "source": [
    "# Write your own code\n",
    "\n",
    "constructors = pd.read_csv(\"data_raw/constructors.csv\")\n",
    "\n",
    "\n",
    "list_old = ['British','American','Dutch']\n",
    "list_new = ['UK', 'USA','Netherlands']\n",
    "\n",
    "constructors['nationality'] = constructors['nationality'].replace(list_old, list_new)\n",
    "\n",
    "print(constructors)\n",
    "\n"
   ]
  },
  {
   "cell_type": "markdown",
   "metadata": {},
   "source": [
    "<font size = \"5\">\n",
    "\n",
    "\n",
    "<span style=\"color:red\"> For QUESTIONS (b)-(e): </span>\n",
    "\n",
    "<span style=\"color:red\"> Import the \"data_raw/sprint_results.csv\" file </span>\n",
    "\n",
    "\n",
    "(b) Recode a numeric colum\n",
    "\n",
    "<font size = \"3\">\n",
    "\n",
    "- Recode the \"points\" column into a new column \"points_brackets\" <br>\n",
    "with the following categories\n",
    "\n",
    "$\\qquad$ ``` [\"0-20\",\"21-30\",\"31-100\"] ```\n",
    "\n",
    "$\\qquad$ HINT: Use the \"pd.cut()\" command. See Lecture 12 <br>\n",
    "$\\qquad$ HINT: Be careful about the left and right points of <br>\n",
    "$\\qquad$ interval to make sure that you classify the points correctly"
   ]
  },
  {
   "cell_type": "code",
   "execution_count": 30,
   "metadata": {},
   "outputs": [
    {
     "name": "stdout",
     "output_type": "stream",
     "text": [
      "   resultId  raceId  driverId  constructorId  number  grid position  \\\n",
      "0         1    1061       830              9      33     2        1   \n",
      "1         2    1061         1            131      44     1        2   \n",
      "2         3    1061       822            131      77     3        3   \n",
      "3         4    1061       844              6      16     4        4   \n",
      "4         5    1061       846              1       4     6        5   \n",
      "\n",
      "  positionText  positionOrder  points  laps       time milliseconds  \\\n",
      "0            1              1       3    17  25:38.426      1538426   \n",
      "1            2              2       2    17     +1.430      1539856   \n",
      "2            3              3       1    17     +7.502      1545928   \n",
      "3            4              4       0    17    +11.278      1549704   \n",
      "4            5              5       0    17    +24.111      1562537   \n",
      "\n",
      "  fastestLap fastestLapTime  statusId points_brackets  \n",
      "0         14       1:30.013         1            0–20  \n",
      "1         17       1:29.937         1            0–20  \n",
      "2         17       1:29.958         1            0–20  \n",
      "3         16       1:30.163         1            0–20  \n",
      "4         16       1:30.566         1            0–20  \n"
     ]
    }
   ],
   "source": [
    "# Write your own code:\n",
    "sprint_results = pd.read_csv(\"data_raw/sprint_results.csv\")\n",
    "\n",
    "bins = [0, 20, 30, 100]\n",
    "labels = [\"0–20\", \"21–30\", \"31–100\"]\n",
    "\n",
    "sprint_results['points_brackets'] = pd.cut(sprint_results['points'], bins=bins, labels=labels, right=False)\n",
    "\n",
    "print(sprint_results.head())\n",
    "\n"
   ]
  },
  {
   "cell_type": "markdown",
   "metadata": {},
   "source": [
    "<font size = \"5\">\n",
    "\n",
    "(c) Aggregate and query\n",
    "\n",
    "<font size = \"3\">\n",
    "\n",
    "- Subset the observations for 'raceId <= 1070' using ```.query()```\n",
    "- Obtain the maximum of \"points\" by \"driverId\" <br>  using ``` .groupby().agg() ``` and save this to <br>\n",
    "a new dataset called \"aggregate_data\"\n",
    "- From \"aggregate_data\" subset the drivers with a maximum number of points $>= 1$\n",
    "- Display the resulting dataset\n",
    "\n",
    "\n",
    "Hint: See Lecture 15"
   ]
  },
  {
   "cell_type": "code",
   "execution_count": 31,
   "metadata": {},
   "outputs": [
    {
     "name": "stdout",
     "output_type": "stream",
     "text": [
      "          max_points\n",
      "driverId            \n",
      "1                  2\n",
      "817                1\n",
      "822                3\n",
      "830                3\n"
     ]
    }
   ],
   "source": [
    "# Write your own code\n",
    "sprint_results = pd.read_csv(\"data_raw/sprint_results.csv\")\n",
    "\n",
    "subset = sprint_results.query('raceId <= 1070')\n",
    "\n",
    "aggregate_data = subset.groupby('driverId').agg(max_points=('points', 'max'))\n",
    "\n",
    "drivers_with_points = aggregate_data.query('max_points >= 1')\n",
    "\n",
    "print(drivers_with_points)\n",
    "\n",
    "\n"
   ]
  },
  {
   "cell_type": "markdown",
   "metadata": {},
   "source": [
    "<font size = \"5\">\n",
    "\n",
    "(d) Aggregate and sort\n",
    "\n",
    "<font size = \"3\">\n",
    "\n",
    "- Obtain the mean of \"points\" by \"driverId\" <br>  using ``` .groupby().agg() ```\n",
    "- Sort the drivers in descending order using of <br>\n",
    "the mean of points using ``` .sort_values() ```\n",
    "\n",
    "\n",
    "Hint: See Lecture 15"
   ]
  },
  {
   "cell_type": "code",
   "execution_count": 32,
   "metadata": {},
   "outputs": [
    {
     "name": "stdout",
     "output_type": "stream",
     "text": [
      "driverId\n",
      "830    4.666667\n",
      "832    3.166667\n",
      "844    2.833333\n",
      "815    2.333333\n",
      "847    2.166667\n",
      "1      1.500000\n",
      "822    1.500000\n",
      "825    1.333333\n",
      "846    1.000000\n",
      "817    0.666667\n",
      "839    0.500000\n",
      "854    0.000000\n",
      "853    0.000000\n",
      "852    0.000000\n",
      "849    0.000000\n",
      "848    0.000000\n",
      "840    0.000000\n",
      "842    0.000000\n",
      "841    0.000000\n",
      "4      0.000000\n",
      "20     0.000000\n",
      "9      0.000000\n",
      "8      0.000000\n",
      "855    0.000000\n",
      "Name: points, dtype: float64\n"
     ]
    }
   ],
   "source": [
    "# Write your own code\n",
    "sprint_results = pd.read_csv(\"data_raw/sprint_results.csv\")\n",
    "\n",
    "driver_points_mean = sprint_results.groupby('driverId')['points'].agg('mean')\n",
    "sorted_drivers = driver_points_mean.sort_values(ascending=False)\n",
    "\n",
    "print(sorted_drivers)\n"
   ]
  },
  {
   "cell_type": "markdown",
   "metadata": {},
   "source": [
    "<font size = \"5\">\n",
    "\n",
    "(e) Rename column\n",
    "\n",
    "<font size = \"3\">\n",
    "\n",
    "- Rename the column \"grid\" to \"grid_placement\"\n",
    "\n",
    "HINT: Create a dictionary and use ```.rename(columns = ...)``` <br>\n",
    "See Lecture 15"
   ]
  },
  {
   "cell_type": "code",
   "execution_count": 33,
   "metadata": {},
   "outputs": [
    {
     "name": "stdout",
     "output_type": "stream",
     "text": [
      "     resultId  raceId  driverId  constructorId  number  grid position  \\\n",
      "0           1    1061       830              9      33     2        1   \n",
      "1           2    1061         1            131      44     1        2   \n",
      "2           3    1061       822            131      77     3        3   \n",
      "3           4    1061       844              6      16     4        4   \n",
      "4           5    1061       846              1       4     6        5   \n",
      "..        ...     ...       ...            ...     ...   ...      ...   \n",
      "115       116    1095       840            117      18    15       16   \n",
      "116       117    1095       839            214      31     6       17   \n",
      "117       118    1095         4            214      14     7       18   \n",
      "118       119    1095       849              3       6    16       19   \n",
      "119       120    1095       848              3      23    11       \\N   \n",
      "\n",
      "    positionText  positionOrder  points  laps       time milliseconds  \\\n",
      "0              1              1       3    17  25:38.426      1538426   \n",
      "1              2              2       2    17     +1.430      1539856   \n",
      "2              3              3       1    17     +7.502      1545928   \n",
      "3              4              4       0    17    +11.278      1549704   \n",
      "4              5              5       0    17    +24.111      1562537   \n",
      "..           ...            ...     ...   ...        ...          ...   \n",
      "115           16             16       0    24    +50.700      1862007   \n",
      "116           17             17       0    24    +51.756      1863063   \n",
      "117           18             18       0    24    +53.985      1865292   \n",
      "118           19             19       0    24  +1:16.850      1888157   \n",
      "119            R             20       0    12         \\N           \\N   \n",
      "\n",
      "    fastestLap fastestLapTime  statusId  \n",
      "0           14       1:30.013         1  \n",
      "1           17       1:29.937         1  \n",
      "2           17       1:29.958         1  \n",
      "3           16       1:30.163         1  \n",
      "4           16       1:30.566         1  \n",
      "..         ...            ...       ...  \n",
      "115          4       1:15.425         1  \n",
      "116          5       1:16.097         1  \n",
      "117          5       1:14.764         1  \n",
      "118          4       1:16.525         1  \n",
      "119          4       1:15.998        31  \n",
      "\n",
      "[120 rows x 16 columns]\n"
     ]
    }
   ],
   "source": [
    "# Write your own code\n",
    "sprint_results = pd.read_csv(\"data_raw/sprint_results.csv\")\n",
    "\n",
    "sprint_results.rename(columns={'grid': 'grid_placement'})\n",
    "\n",
    "print(sprint_results)"
   ]
  },
  {
   "cell_type": "markdown",
   "metadata": {},
   "source": [
    "<font size = \"5\">\n",
    "\n",
    "(f) Merge dataset\n",
    "\n",
    "<font size = \"3\">\n",
    "\n",
    "- Create a new dataset with  ```pd.merge()``` using <br>\n",
    "\"sprint_results\" as the primary dataset, and <br>\n",
    "\"constructors\" as the secondary dataset, merging on <br>\n",
    "the column \"constructorId\"\n",
    "- To get full points **ONLY** merge the \"nationality\" column <br>\n",
    "from the secondary dataset (not all the columns)\n",
    "\n",
    "HINT: Use ```[[...]]``` to extract a subset of columns <br>\n",
    "from the secondary dataset before merging, including the <br>\n",
    "\"constructorId\" column. <br>\n",
    "Be careful to notice that \"constructorId\" has an uppercase \"I\".\n",
    "\n",
    "See Lecture 15"
   ]
  },
  {
   "cell_type": "code",
   "execution_count": 34,
   "metadata": {},
   "outputs": [
    {
     "name": "stdout",
     "output_type": "stream",
     "text": [
      "     resultId  raceId  driverId  constructorId  number  grid position  \\\n",
      "0           1    1061       830              9      33     2        1   \n",
      "1          20    1061       815              9      11     5       \\N   \n",
      "2          22    1065       830              9      33     3        2   \n",
      "3          29    1065       815              9      11     9        9   \n",
      "4          42    1071       830              9      33     1        2   \n",
      "..        ...     ...       ...            ...     ...   ...      ...   \n",
      "115        70    1077       854            210      47    12       10   \n",
      "116        87    1084       825            210      20     6        7   \n",
      "117        89    1084       854            210      47     7        9   \n",
      "118       108    1095       825            210      20     1        8   \n",
      "119       112    1095       854            210      47    20       12   \n",
      "\n",
      "    positionText  positionOrder  points  laps       time milliseconds  \\\n",
      "0              1              1       3    17  25:38.426      1538426   \n",
      "1              R             20       0    16         \\N           \\N   \n",
      "2              2              2       2    18     +2.325      1676403   \n",
      "3              9              9       0    18    +31.680      1705758   \n",
      "4              2              2       2    24     +1.170      1750729   \n",
      "..           ...            ...     ...   ...        ...          ...   \n",
      "115           10             10       0    21    +33.773      1873340   \n",
      "116            7              7       2    23    +34.539      1624598   \n",
      "117            9              9       0    23    +37.163      1627222   \n",
      "118            8              8       1    24    +28.768      1840075   \n",
      "119           12             12       0    24    +41.159      1852466   \n",
      "\n",
      "    fastestLap fastestLapTime  statusId nationality  \n",
      "0           14       1:30.013         1    Austrian  \n",
      "1            6       1:31.465        76    Austrian  \n",
      "2            9       1:23.502         1    Austrian  \n",
      "3           12       1:24.211         1    Austrian  \n",
      "4            9       1:12.114         1    Austrian  \n",
      "..         ...            ...       ...         ...  \n",
      "115         15       1:20.567         1    American  \n",
      "116          4       1:09.232         1    American  \n",
      "117          4       1:09.457         1    American  \n",
      "118          2       1:15.110         1    American  \n",
      "119          5       1:15.771         1    American  \n",
      "\n",
      "[120 rows x 17 columns]\n"
     ]
    }
   ],
   "source": [
    "# Write your own code\n",
    "\n",
    "sprint_results = pd.read_csv(\"data_raw/sprint_results.csv\")\n",
    "constructors = pd.read_csv(\"data_raw/constructors.csv\")\n",
    "\n",
    "constructors_subset = constructors[['constructorId', 'nationality']]\n",
    "\n",
    "merged = pd.merge(sprint_results, constructors_subset, on='constructorId')\n",
    "\n",
    "print(merged)\n"
   ]
  }
 ],
 "metadata": {
  "kernelspec": {
   "display_name": "base",
   "language": "python",
   "name": "python3"
  },
  "language_info": {
   "codemirror_mode": {
    "name": "ipython",
    "version": 3
   },
   "file_extension": ".py",
   "mimetype": "text/x-python",
   "name": "python",
   "nbconvert_exporter": "python",
   "pygments_lexer": "ipython3",
   "version": "3.11.5"
  },
  "orig_nbformat": 4,
  "vscode": {
   "interpreter": {
    "hash": "45fc1f684f6f416f40889115beff3ddf69879b64cf4bfee48cb72a61e9d15d1a"
   }
  }
 },
 "nbformat": 4,
 "nbformat_minor": 2
}
